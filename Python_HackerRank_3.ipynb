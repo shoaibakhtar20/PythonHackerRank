{
  "nbformat": 4,
  "nbformat_minor": 0,
  "metadata": {
    "colab": {
      "name": "Python HackerRank 2.ipynb",
      "provenance": [],
      "authorship_tag": "ABX9TyOsIc7yWK1A8yG3KrqYSiov",
      "include_colab_link": true
    },
    "kernelspec": {
      "name": "python3",
      "display_name": "Python 3"
    }
  },
  "cells": [
    {
      "cell_type": "markdown",
      "metadata": {
        "id": "view-in-github",
        "colab_type": "text"
      },
      "source": [
        "<a href=\"https://colab.research.google.com/github/shoaibakhtar20/PythonHackerRank/blob/main/Python_HackerRank_3.ipynb\" target=\"_parent\"><img src=\"https://colab.research.google.com/assets/colab-badge.svg\" alt=\"Open In Colab\"/></a>"
      ]
    },
    {
      "cell_type": "code",
      "metadata": {
        "id": "lTXphfAqX0P3"
      },
      "source": [
        "#Arithmetic Operators"
      ],
      "execution_count": null,
      "outputs": []
    },
    {
      "cell_type": "markdown",
      "metadata": {
        "id": "LhyrVbBBbBxf"
      },
      "source": [
        "Task\n",
        "The provided code stub reads two integers from STDIN,  and . Add code to print three lines where:\n",
        "\n",
        "The first line contains the sum of the two numbers.\n",
        "The second line contains the difference of the two numbers (first - second).\n",
        "The third line contains the product of the two numbers.\n",
        "Example\n",
        "\n",
        "\n",
        "Print the following:\n",
        "\n",
        "8\n",
        "-2\n",
        "15\n",
        "Input Format\n",
        "\n",
        "The first line contains the first integer, .\n",
        "The second line contains the second integer, .\n",
        "\n",
        "Constraints\n",
        "\n",
        "\n",
        "\n",
        "Output Format\n",
        "\n",
        "Print the three lines as explained above.\n",
        "\n",
        "Sample Input 0\n",
        "\n",
        "3\n",
        "2\n",
        "Sample Output 0\n",
        "\n",
        "5\n",
        "1\n",
        "6\n"
      ]
    },
    {
      "cell_type": "code",
      "metadata": {
        "id": "BN165NN3X8aF"
      },
      "source": [
        "if __name__ == '__main__':\n",
        "    a = int(input())\n",
        "    b = int(input())\n",
        "    print(a+b)\n",
        "    print(a-b)\n",
        "    print(a*b)"
      ],
      "execution_count": null,
      "outputs": []
    }
  ]
}