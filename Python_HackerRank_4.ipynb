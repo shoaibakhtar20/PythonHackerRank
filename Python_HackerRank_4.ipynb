{
  "nbformat": 4,
  "nbformat_minor": 0,
  "metadata": {
    "colab": {
      "name": "Python HackerRank 2.ipynb",
      "provenance": [],
      "authorship_tag": "ABX9TyMaJ4RevwuIBNsd+sMZIsXt",
      "include_colab_link": true
    },
    "kernelspec": {
      "name": "python3",
      "display_name": "Python 3"
    }
  },
  "cells": [
    {
      "cell_type": "markdown",
      "metadata": {
        "id": "view-in-github",
        "colab_type": "text"
      },
      "source": [
        "<a href=\"https://colab.research.google.com/github/shoaibakhtar20/PythonHackerRank/blob/main/Python_HackerRank_4.ipynb\" target=\"_parent\"><img src=\"https://colab.research.google.com/assets/colab-badge.svg\" alt=\"Open In Colab\"/></a>"
      ]
    },
    {
      "cell_type": "code",
      "metadata": {
        "id": "lTXphfAqX0P3"
      },
      "source": [
        "#Division Operators"
      ],
      "execution_count": null,
      "outputs": []
    },
    {
      "cell_type": "markdown",
      "metadata": {
        "id": "LhyrVbBBbBxf"
      },
      "source": [
        "Task\n",
        "The provided code stub reads two integers,  and , from STDIN.\n",
        "\n",
        "Add logic to print two lines. The first line should contain the result of integer division,  // . The second line should contain the result of float division,  / .\n",
        "\n",
        "No rounding or formatting is necessary.\n",
        "\n",
        "Example\n",
        "\n",
        "\n",
        "The result of the integer division .\n",
        "The result of the float division is .\n",
        "Print:\n",
        "\n",
        "0\n",
        "0.6\n",
        "Input Format\n",
        "\n",
        "The first line contains the first integer, .\n",
        "The second line contains the second integer, .\n",
        "\n",
        "Output Format\n",
        "\n",
        "Print the two lines as described above.\n",
        "\n",
        "Sample Input 0\n",
        "\n",
        "4\n",
        "3\n",
        "Sample Output 0\n",
        "\n",
        "1\n",
        "1.33333333333"
      ]
    },
    {
      "cell_type": "code",
      "metadata": {
        "id": "BN165NN3X8aF"
      },
      "source": [
        "if __name__ == '__main__':\n",
        "    a = int(input())\n",
        "    b = int(input())\n",
        "    print(a//b)\n",
        "    print(a/b)"
      ],
      "execution_count": null,
      "outputs": []
    }
  ]
}