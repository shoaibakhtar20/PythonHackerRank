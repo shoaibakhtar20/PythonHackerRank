{
  "nbformat": 4,
  "nbformat_minor": 0,
  "metadata": {
    "colab": {
      "name": "Python HackerRank 2.ipynb",
      "provenance": [],
      "authorship_tag": "ABX9TyNaPItfnaFey1bf3bcW8uNs",
      "include_colab_link": true
    },
    "kernelspec": {
      "name": "python3",
      "display_name": "Python 3"
    }
  },
  "cells": [
    {
      "cell_type": "markdown",
      "metadata": {
        "id": "view-in-github",
        "colab_type": "text"
      },
      "source": [
        "<a href=\"https://colab.research.google.com/github/shoaibakhtar20/PythonHackerRank/blob/main/Python_HackerRank_2.ipynb\" target=\"_parent\"><img src=\"https://colab.research.google.com/assets/colab-badge.svg\" alt=\"Open In Colab\"/></a>"
      ]
    },
    {
      "cell_type": "code",
      "metadata": {
        "id": "lTXphfAqX0P3"
      },
      "source": [
        "#Python If-Else\n",
        "\n"
      ],
      "execution_count": null,
      "outputs": []
    },
    {
      "cell_type": "markdown",
      "metadata": {
        "id": "LhyrVbBBbBxf"
      },
      "source": [
        "Task\n",
        "Given an integer, , perform the following conditional actions:\n",
        "\n",
        "If  is odd, print Weird\n",
        "If  is even and in the inclusive range of  to , print Not Weird\n",
        "If  is even and in the inclusive range of  to , print Weird\n",
        "If  is even and greater than , print Not Weird\n",
        "Input Format\n",
        "\n",
        "A single line containing a positive integer, .\n",
        "\n",
        "Constraints\n",
        "\n",
        "Output Format\n",
        "\n",
        "Print Weird if the number is weird. Otherwise, print Not Weird.\n",
        "\n",
        "Sample Input 0\n",
        "\n",
        "3\n",
        "Sample Output 0\n",
        "\n",
        "Weird\n",
        "Explanation 0\n",
        "\n",
        "\n",
        " is odd and odd numbers are weird, so print Weird.\n",
        "\n",
        "Sample Input 1\n",
        "\n",
        "24\n",
        "Sample Output 1\n",
        "\n",
        "Not Weird\n",
        "Explanation 1\n",
        "\n",
        "\n",
        " and  is even, so it is not weird."
      ]
    },
    {
      "cell_type": "code",
      "metadata": {
        "id": "BN165NN3X8aF"
      },
      "source": [
        "#!/bin/python3\n",
        "\n",
        "import math\n",
        "import os\n",
        "import random\n",
        "import re\n",
        "import sys\n",
        "\n",
        "\n",
        "\n",
        "if __name__ == '__main__':\n",
        "    n = int(input().strip())\n",
        "    if (n % 2 == 1):\n",
        "        print(\"Weird\")\n",
        "    elif (n >= 2 and n <= 5):\n",
        "        print(\"Not Weird\")\n",
        "    elif (n > 5 and n <=20 ):\n",
        "        print(\"Weird\")\n",
        "    else:\n",
        "        print(\"Not Weird\")"
      ],
      "execution_count": null,
      "outputs": []
    }
  ]
}